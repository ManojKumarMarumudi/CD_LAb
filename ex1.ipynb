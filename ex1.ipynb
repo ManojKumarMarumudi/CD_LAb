{
  "nbformat": 4,
  "nbformat_minor": 0,
  "metadata": {
    "colab": {
      "provenance": [],
      "mount_file_id": "1VSYKWaWyR5HxoHIiZuCF98lVHbO-d47k",
      "authorship_tag": "ABX9TyOZ4IL8EaXJxWuekDuzeSNr",
      "include_colab_link": true
    },
    "kernelspec": {
      "name": "python3",
      "display_name": "Python 3"
    },
    "language_info": {
      "name": "python"
    }
  },
  "cells": [
    {
      "cell_type": "markdown",
      "metadata": {
        "id": "view-in-github",
        "colab_type": "text"
      },
      "source": [
        "<a href=\"https://colab.research.google.com/github/ManojKumarMarumudi/CD_LAb/blob/main/ex1.ipynb\" target=\"_parent\"><img src=\"https://colab.research.google.com/assets/colab-badge.svg\" alt=\"Open In Colab\"/></a>"
      ]
    },
    {
      "cell_type": "code",
      "execution_count": 7,
      "metadata": {
        "id": "kUfYrgCpQJqI"
      },
      "outputs": [],
      "source": [
        "keywords = {\"auto\",\"break\",\"case\",\"char\",\"const\",\"continue\",\"default\",\"do\",\"double\",\"else\",\"enum\",\"extern\",\"float\",\"for\",\"goto\",\"if\",\"int\",\"long\",\"register\",\"return\",\"short\",\"signed\",\"sizeof\",\"static\",\"struct\",\"switch\",\"typedef\",\"union\",\"unsigned\",\"void\",\"volatile\",\"while\",\"printf\",\"scanf\",\"%d\",\"include\",\"stdio.h\",\"main\"}"
      ]
    },
    {
      "cell_type": "code",
      "source": [
        "operators = {\"+\",\"-\",\"*\",\"/\",\"<\",\">\",\"=\",\"<=\",\">=\",\"==\",\"!=\",\"++\",\"--\",\"%\"}"
      ],
      "metadata": {
        "id": "m69QNjdFQYgj"
      },
      "execution_count": 8,
      "outputs": []
    },
    {
      "cell_type": "code",
      "source": [
        "delimiters = {'(',')','{','}','[',']','\"',\"'\",';','#',',',''}\n"
      ],
      "metadata": {
        "id": "BVRip73-Qfqm"
      },
      "execution_count": 9,
      "outputs": []
    },
    {
      "cell_type": "code",
      "source": [
        "def detect_keywords(text):\n",
        "\tarr = []\n",
        "\tfor word in text:\n",
        "\t\tif word in keywords:\n",
        "\t\t\tarr.append(word)\n",
        "\treturn list(set(arr))\n",
        "\n",
        "def detect_operators(text):\n",
        "\tarr = []\n",
        "\tfor word in text:\n",
        "\t\tif word in operators:\n",
        "\t\t\tarr.append(word)\n",
        "\treturn list(set(arr))\n",
        "\n",
        "def detect_delimiters(text):\n",
        "\tarr = []\n",
        "\tfor word in text:\n",
        "\t\tif word in delimiters:\n",
        "\t\t\tarr.append(word)\n",
        "\treturn list(set(arr))\n",
        "\n",
        "def detect_num(text):\n",
        "\tarr = []\n",
        "\tfor word in text:\n",
        "\t\ttry:\n",
        "\t\t\ta = int(word)\n",
        "\t\t\tarr.append(word)\n",
        "\t\texcept:\n",
        "\t\t\tpass\n",
        "\treturn list(set(arr))\n",
        "def detect_identifiers(text):\n",
        "\tk = detect_keywords(text)\n",
        "\to = detect_operators(text)\n",
        "\td = detect_delimiters(text)\n",
        "\tn = detect_num(text)\n",
        "\tnot_ident = k + o + d + n\n",
        "\tarr = []\n",
        "\tfor word in text:\n",
        "\t\tif word not in not_ident:\n",
        "\t\t\tarr.append(word)\n",
        "\treturn arr\n",
        "\n",
        "with open('/content/drive/MyDrive/CD/ex1.txt') as t:\n",
        "\ttext = t.read().split()\n",
        "\n",
        "print(\"Keywords: \",detect_keywords(text))\n",
        "print(\"Operators: \",detect_operators(text))\n",
        "print(\"Delimiters: \",detect_delimiters(text))\n",
        "print(\"Identifiers: \",detect_identifiers(text))\n",
        "print(\"Numbers: \",detect_num(text))"
      ],
      "metadata": {
        "colab": {
          "base_uri": "https://localhost:8080/"
        },
        "id": "VAtnxTn_Qx0p",
        "outputId": "a1ffd223-2f49-4bf1-9adb-b1ac7574b246"
      },
      "execution_count": 10,
      "outputs": [
        {
          "output_type": "stream",
          "name": "stdout",
          "text": [
            "Keywords:  ['int', 'return']\n",
            "Operators:  ['=']\n",
            "Delimiters:  ['}', '{']\n",
            "Identifiers:  ['main()', 'a,', 'b;', 'a', '10;', '0;']\n",
            "Numbers:  []\n"
          ]
        }
      ]
    }
  ]
}